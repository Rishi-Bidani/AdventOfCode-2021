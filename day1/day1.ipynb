{
 "cells": [
  {
   "cell_type": "code",
   "execution_count": 35,
   "id": "90fdc268",
   "metadata": {},
   "outputs": [
    {
     "name": "stdout",
     "output_type": "stream",
     "text": [
      "1466\n"
     ]
    }
   ],
   "source": [
    "# Part 1\n",
    "data = open(\"sample.txt\", \"r\")\n",
    "prv_data = data.readline();\n",
    "incr_counter = 0\n",
    "for i, d in enumerate(data):\n",
    "    if int(d)>int(prv_data):\n",
    "        incr_counter += 1\n",
    "    prv_data = d\n",
    "\n",
    "print(incr_counter)\n",
    "\n",
    "        "
   ]
  },
  {
   "cell_type": "code",
   "execution_count": 34,
   "id": "4af2e2c8",
   "metadata": {},
   "outputs": [
    {
     "name": "stdout",
     "output_type": "stream",
     "text": [
      "1491\n"
     ]
    }
   ],
   "source": [
    "# part 2\n",
    "def sum_of_array(arr):\n",
    "    count = 0\n",
    "    for i in range(len(arr)):\n",
    "        count += int(arr[i])\n",
    "    return count\n",
    "        \n",
    "\n",
    "data = open(\"sample.txt\", \"r\")\n",
    "section_data = []\n",
    "section_track = 0\n",
    "prv_sec = 0\n",
    "counter=0\n",
    "lines = data.readlines()\n",
    "\n",
    "while (len(lines) - section_track > 3):\n",
    "    for i in range(3):\n",
    "        section_data.append(lines[section_track+i])\n",
    "    sum_of_section_data = sum_of_array(section_data)\n",
    "    if sum_of_section_data > prv_sec:\n",
    "        counter += 1\n",
    "    section_data = []\n",
    "    prv_sec = sum_of_section_data\n",
    "    section_track += 1\n",
    "    \n",
    "print(counter)\n",
    "    \n",
    "\n"
   ]
  },
  {
   "cell_type": "code",
   "execution_count": null,
   "id": "d0f461d6",
   "metadata": {},
   "outputs": [],
   "source": []
  }
 ],
 "metadata": {
  "kernelspec": {
   "display_name": "Python 3",
   "language": "python",
   "name": "python3"
  },
  "language_info": {
   "codemirror_mode": {
    "name": "ipython",
    "version": 3
   },
   "file_extension": ".py",
   "mimetype": "text/x-python",
   "name": "python",
   "nbconvert_exporter": "python",
   "pygments_lexer": "ipython3",
   "version": "3.8.8"
  }
 },
 "nbformat": 4,
 "nbformat_minor": 5
}
